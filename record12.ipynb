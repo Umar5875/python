{
 "cells": [
  {
   "cell_type": "code",
   "execution_count": 1,
   "id": "e0937b13-1ae5-49d3-9e10-f4120ce92e38",
   "metadata": {
    "scrolled": true
   },
   "outputs": [
    {
     "name": "stdin",
     "output_type": "stream",
     "text": [
      "Enter a list of integers:  -5 3 -1 7 0 -2\n"
     ]
    },
    {
     "name": "stdout",
     "output_type": "stream",
     "text": [
      "Positive numbers: [3, 7]\n"
     ]
    },
    {
     "name": "stdin",
     "output_type": "stream",
     "text": [
      "\n",
      "Enter the value of N to get squares of numbers from 1 to N:  5\n"
     ]
    },
    {
     "name": "stdout",
     "output_type": "stream",
     "text": [
      "Squares: [1, 4, 9, 16, 25]\n"
     ]
    },
    {
     "name": "stdin",
     "output_type": "stream",
     "text": [
      "\n",
      "Enter a word to extract vowels:  education\n"
     ]
    },
    {
     "name": "stdout",
     "output_type": "stream",
     "text": [
      "Vowels in the word: ['e', 'u', 'a', 'i', 'o']\n"
     ]
    },
    {
     "name": "stdin",
     "output_type": "stream",
     "text": [
      "\n",
      "Enter a word to get ordinal values of each character:  hello\n"
     ]
    },
    {
     "name": "stdout",
     "output_type": "stream",
     "text": [
      "Ordinal values: [104, 101, 108, 108, 111]\n"
     ]
    }
   ],
   "source": [
    "#1. List comprehensions: (a,b,c,d)\n",
    "#(a)Generate positive list of numbers from a given list of integers \n",
    "numbers = list(map(int, input(\"Enter a list of integers: \").split()))\n",
    "positive_numbers = [n for n in numbers if n > 0]\n",
    "print(\"Positive numbers:\", positive_numbers)\n",
    "#(b)Square of N numbers \n",
    "N = int(input(\"\\nEnter the value of N to get squares of numbers from 1 to N: \"))\n",
    "squares = [i**2 for i in range(1, N+1)]\n",
    "print(\"Squares:\", squares)\n",
    "#(c)Form a list of vowels selected from a given word \n",
    "word = input(\"\\nEnter a word to extract vowels: \")\n",
    "vowels_list = [ch for ch in word if ch.lower() in 'aeiou']\n",
    "print(\"Vowels in the word:\", vowels_list)\n",
    "#(d)List ordinal value of each element of a word (Hint: use ord() to get ordinal values)\n",
    "word2 = input(\"\\nEnter a word to get ordinal values of each character: \")\n",
    "ordinal_values = [ord(ch) for ch in word2]\n",
    "print(\"Ordinal values:\", ordinal_values)\n"
   ]
  },
  {
   "cell_type": "code",
   "execution_count": null,
   "id": "05942a00-9392-456b-8446-e356311d1505",
   "metadata": {},
   "outputs": [],
   "source": []
  }
 ],
 "metadata": {
  "kernelspec": {
   "display_name": "Python 3 (ipykernel)",
   "language": "python",
   "name": "python3"
  },
  "language_info": {
   "codemirror_mode": {
    "name": "ipython",
    "version": 3
   },
   "file_extension": ".py",
   "mimetype": "text/x-python",
   "name": "python",
   "nbconvert_exporter": "python",
   "pygments_lexer": "ipython3",
   "version": "3.11.9"
  }
 },
 "nbformat": 4,
 "nbformat_minor": 5
}
