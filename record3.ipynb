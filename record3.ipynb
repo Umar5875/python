{
 "cells": [
  {
   "cell_type": "code",
   "execution_count": 4,
   "id": "d9855806-eb99-492a-9f29-5edb4bd1a1d6",
   "metadata": {},
   "outputs": [
    {
     "name": "stdin",
     "output_type": "stream",
     "text": [
      "Enter first number:  11.2\n",
      "Enter second number:  2.33\n",
      "Enter third number:  30.12334\n"
     ]
    },
    {
     "name": "stdout",
     "output_type": "stream",
     "text": [
      "The biggest number is: 30.12334\n"
     ]
    }
   ],
   "source": [
    "# Python program to find the biggest of three numbers using max()\n",
    "num1 = float(input(\"Enter first number: \"))\n",
    "num2 = float(input(\"Enter second number: \"))\n",
    "num3 = float(input(\"Enter third number: \"))\n",
    "biggest = max(num1, num2, num3)\n",
    "print(\"The biggest number is:\", biggest)"
   ]
  },
  {
   "cell_type": "code",
   "execution_count": null,
   "id": "17a109cb-26d3-4c6a-8c8b-94c232625bf4",
   "metadata": {},
   "outputs": [],
   "source": []
  }
 ],
 "metadata": {
  "kernelspec": {
   "display_name": "Python 3 (ipykernel)",
   "language": "python",
   "name": "python3"
  },
  "language_info": {
   "codemirror_mode": {
    "name": "ipython",
    "version": 3
   },
   "file_extension": ".py",
   "mimetype": "text/x-python",
   "name": "python",
   "nbconvert_exporter": "python",
   "pygments_lexer": "ipython3",
   "version": "3.11.9"
  }
 },
 "nbformat": 4,
 "nbformat_minor": 5
}
