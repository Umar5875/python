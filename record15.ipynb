{
 "cells": [
  {
   "cell_type": "code",
   "execution_count": null,
   "id": "60e6bf70-578e-4e9b-b328-f312e7038f8d",
   "metadata": {},
   "outputs": [],
   "source": [
    "#Create Rectangle class with attributes length and breadth and methods to find area and perimeter. \n",
    "#Compare two Rectangle objects by their area.\n"
   ]
  },
  {
   "cell_type": "code",
   "execution_count": 10,
   "id": "18d33f61-6ae0-4d73-b619-87d740860b3e",
   "metadata": {},
   "outputs": [
    {
     "name": "stdin",
     "output_type": "stream",
     "text": [
      "Enter length of the rctangle: 11\n",
      "Enter breadth of the rctangle: 22\n",
      "Enter length of the 2nd rctangle: 33\n",
      "Enter breadth of the 2nd rctangle: 11\n"
     ]
    },
    {
     "name": "stdout",
     "output_type": "stream",
     "text": [
      "Area of 1st rectangle: 242\n",
      "Perimeter of 1st rectangle: 66\n",
      "Area of 2nd rectangle: 363\n",
      "Perimeter of 2nd rectangle: 88\n",
      "Rectangle 2 is bigger\n"
     ]
    }
   ],
   "source": [
    "class rectangle:\n",
    "    def rect(self,length,breadth):\n",
    "        self.length=length\n",
    "        self.breadth=breadth\n",
    "    def area(self):\n",
    "        return self.length*self.breadth\n",
    "    def peri(self):\n",
    "         return 2*(self.length+self.breadth)  \n",
    "l1=int(input(\"Enter length of the rctangle:\"))\n",
    "b1=int(input(\"Enter breadth of the rctangle:\"))\n",
    "r1=rectangle()\n",
    "r1.rect(l1,b1)\n",
    "l2=int(input(\"Enter length of the 2nd rctangle:\"))\n",
    "b2=int(input(\"Enter breadth of the 2nd rctangle:\"))\n",
    "r2=rectangle()\n",
    "r2.rect(l2,b2)\n",
    "print(\"Area of 1st rectangle:\",r1.area())\n",
    "print(\"Perimeter of 1st rectangle:\",r1.peri())\n",
    "print(\"Area of 2nd rectangle:\",r2.area())\n",
    "print(\"Perimeter of 2nd rectangle:\",r2.peri())\n",
    "if r1.area()>r2.area():\n",
    "    print(\"Rectangle 1 is bigger\")\n",
    "else:\n",
    "    print(\"Rectangle 2 is bigger\")  "
   ]
  },
  {
   "cell_type": "code",
   "execution_count": null,
   "id": "fbd1e613-fe65-42af-810d-8c3f59a46adf",
   "metadata": {},
   "outputs": [],
   "source": []
  }
 ],
 "metadata": {
  "kernelspec": {
   "display_name": "Python 3 (ipykernel)",
   "language": "python",
   "name": "python3"
  },
  "language_info": {
   "codemirror_mode": {
    "name": "ipython",
    "version": 3
   },
   "file_extension": ".py",
   "mimetype": "text/x-python",
   "name": "python",
   "nbconvert_exporter": "python",
   "pygments_lexer": "ipython3",
   "version": "3.11.9"
  }
 },
 "nbformat": 4,
 "nbformat_minor": 5
}
