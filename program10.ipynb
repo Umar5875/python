{
 "cells": [
  {
   "cell_type": "code",
   "execution_count": 7,
   "id": "1a2f4b26-3f46-4287-bc19-3dc93ebd9780",
   "metadata": {},
   "outputs": [
    {
     "name": "stdin",
     "output_type": "stream",
     "text": [
      "enter the numbers of first list: 1,2,3,4,5\n",
      "enter the numbers of 2 list: 2,4,6,8\n"
     ]
    },
    {
     "name": "stdout",
     "output_type": "stream",
     "text": [
      "list 1 = [1, 2, 3, 4, 5]\n",
      "list 2 = [2, 4, 6, 8]\n",
      "The list length is note same\n",
      "The list sums value are note same\n",
      "The list contain comman values: {2, 4}\n"
     ]
    }
   ],
   "source": [
    "#1. Enter 2 lists of integers. Check (a) Whether list are of same length (b) whether list sums to same value (c) whether any value occur in both.\n",
    "l1=list(map(int,input(\"enter the numbers of first list:\").split(\",\")))\n",
    "l2=list(map(int,input(\"enter the numbers of 2 list:\").split(\",\")))\n",
    "print(\"list 1 =\",l1)\n",
    "print(\"list 2 =\",l2)\n",
    "if len(l1)==len(l2):\n",
    "    print(\"The list are same length\")\n",
    "else:\n",
    "    print(\"The list length is note same\")\n",
    "x=sum(l1)\n",
    "y=sum(l2)\n",
    "if x==y:\n",
    "    print(\"The list sums value are same\")\n",
    "else:\n",
    "    print(\"The list sums value are note same\")\n",
    "z=set(l1)\n",
    "w=set(l2)\n",
    "common=z.intersection(w)\n",
    "print(\"The list contain comman values:\",common)\n"
   ]
  },
  {
   "cell_type": "code",
   "execution_count": 15,
   "id": "94811df0-ad85-4946-a768-9f2c4151e68d",
   "metadata": {},
   "outputs": [
    {
     "name": "stdin",
     "output_type": "stream",
     "text": [
      "Enter word play\n"
     ]
    },
    {
     "name": "stdout",
     "output_type": "stream",
     "text": [
      "modified word playing\n"
     ]
    }
   ],
   "source": [
    "num=input(\"Enter word\")\n",
    "\n",
    "if num.endswith(\"ing\"):\n",
    "   num += \"ly\"\n",
    "else:\n",
    "    num += \"ing\"\n",
    "\n",
    "print(\"modified word\",num)"
   ]
  },
  {
   "cell_type": "code",
   "execution_count": null,
   "id": "642051ce-7faf-4475-867d-d07ad3ac190e",
   "metadata": {},
   "outputs": [],
   "source": []
  }
 ],
 "metadata": {
  "kernelspec": {
   "display_name": "Python 3 (ipykernel)",
   "language": "python",
   "name": "python3"
  },
  "language_info": {
   "codemirror_mode": {
    "name": "ipython",
    "version": 3
   },
   "file_extension": ".py",
   "mimetype": "text/x-python",
   "name": "python",
   "nbconvert_exporter": "python",
   "pygments_lexer": "ipython3",
   "version": "3.11.9"
  }
 },
 "nbformat": 4,
 "nbformat_minor": 5
}
