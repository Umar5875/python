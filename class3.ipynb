{
 "cells": [
  {
   "cell_type": "code",
   "execution_count": 13,
   "id": "86fc80ef-d661-4a4a-a829-2a2c160903fb",
   "metadata": {},
   "outputs": [
    {
     "name": "stdout",
     "output_type": "stream",
     "text": [
      "3.16\n"
     ]
    }
   ],
   "source": [
    "#import math\n",
    "number = 10\n",
    "result = math.sqrt(number)\n",
    "\n",
    "# Round to 2 decimal places\n",
    "rounded_result = round(result, 2)\n",
    "\n",
    "print(rounded_result)"
   ]
  },
  {
   "cell_type": "code",
   "execution_count": 21,
   "id": "c902c44f-6e8e-4853-9252-eae74bdd8425",
   "metadata": {},
   "outputs": [
    {
     "name": "stdout",
     "output_type": "stream",
     "text": [
      "3\n",
      "2\n"
     ]
    }
   ],
   "source": [
    "num=2.2\n",
    "print(math.ceil(num))\n",
    "print(math.floor(num))"
   ]
  },
  {
   "cell_type": "code",
   "execution_count": 23,
   "id": "2466b99f-f5ee-4980-af00-0d836a50e28a",
   "metadata": {},
   "outputs": [
    {
     "ename": "NameError",
     "evalue": "name 'D' is not defined",
     "output_type": "error",
     "traceback": [
      "\u001b[0;31m---------------------------------------------------------------------------\u001b[0m",
      "\u001b[0;31mNameError\u001b[0m                                 Traceback (most recent call last)",
      "Cell \u001b[0;32mIn[23], line 1\u001b[0m\n\u001b[0;32m----> 1\u001b[0m char\u001b[38;5;241m=\u001b[39mD\n\u001b[1;32m      2\u001b[0m \u001b[38;5;28mprint\u001b[39m(math\u001b[38;5;241m.\u001b[39mceil(char))\n\u001b[1;32m      3\u001b[0m \u001b[38;5;28mprint\u001b[39m(math\u001b[38;5;241m.\u001b[39mfloor(char))\n",
      "\u001b[0;31mNameError\u001b[0m: name 'D' is not defined"
     ]
    }
   ],
   "source": [
    "import char\n",
    "char=D\n",
    "print(math.ceil(char))\n",
    "print(math.floor(char))"
   ]
  },
  {
   "cell_type": "code",
   "execution_count": null,
   "id": "da259dfd-5b19-40a5-927c-1a5cab120bd3",
   "metadata": {},
   "outputs": [],
   "source": []
  }
 ],
 "metadata": {
  "kernelspec": {
   "display_name": "Python 3 (ipykernel)",
   "language": "python",
   "name": "python3"
  },
  "language_info": {
   "codemirror_mode": {
    "name": "ipython",
    "version": 3
   },
   "file_extension": ".py",
   "mimetype": "text/x-python",
   "name": "python",
   "nbconvert_exporter": "python",
   "pygments_lexer": "ipython3",
   "version": "3.11.9"
  }
 },
 "nbformat": 4,
 "nbformat_minor": 5
}
