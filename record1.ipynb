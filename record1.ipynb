{
 "cells": [
  {
   "cell_type": "code",
   "execution_count": 1,
   "id": "6e811a9d-a173-4f70-9d8d-4fc841a323a5",
   "metadata": {},
   "outputs": [],
   "source": [
    "#wirte a program that accepts an integer (n) and computers the value of n+nn+nnn\n",
    "#input the radius of the circle and computer the aera (import math)"
   ]
  },
  {
   "cell_type": "code",
   "execution_count": 5,
   "id": "536218cb-b70c-4dec-aeea-1e130ecc8280",
   "metadata": {},
   "outputs": [
    {
     "name": "stdin",
     "output_type": "stream",
     "text": [
      "Enter an integer:  2\n"
     ]
    },
    {
     "name": "stdout",
     "output_type": "stream",
     "text": [
      "2 + 22 + 222 = 246\n"
     ]
    }
   ],
   "source": [
    "#wirte a program that accepts an integer (n) and computers the value of n+nn+nnn\n",
    "n = input(\"Enter an integer: \")\n",
    "print(n, \"+\", n*2, \"+\", n*3, \"=\", int(n)+int(n*2)+int(n*3))"
   ]
  },
  {
   "cell_type": "code",
   "execution_count": 3,
   "id": "373564ec-7a13-45cf-b352-2460a6ab9ec8",
   "metadata": {},
   "outputs": [
    {
     "name": "stdin",
     "output_type": "stream",
     "text": [
      "Enter the radius:  10\n"
     ]
    },
    {
     "name": "stdout",
     "output_type": "stream",
     "text": [
      "Area of the circle = 314.16\n"
     ]
    }
   ],
   "source": [
    "#input the radius of the circle and computer the aera (import math)\n",
    "import math\n",
    "r = float(input(\"Enter the radius: \"))\n",
    "area = math.pi * r * r\n",
    "print(\"Area of the circle =\", round(area, 2))"
   ]
  },
  {
   "cell_type": "code",
   "execution_count": null,
   "id": "b7db3e88-6cd2-45ee-ab43-bdb2bbdf2f21",
   "metadata": {},
   "outputs": [],
   "source": []
  }
 ],
 "metadata": {
  "kernelspec": {
   "display_name": "Python 3 (ipykernel)",
   "language": "python",
   "name": "python3"
  },
  "language_info": {
   "codemirror_mode": {
    "name": "ipython",
    "version": 3
   },
   "file_extension": ".py",
   "mimetype": "text/x-python",
   "name": "python",
   "nbconvert_exporter": "python",
   "pygments_lexer": "ipython3",
   "version": "3.11.9"
  }
 },
 "nbformat": 4,
 "nbformat_minor": 5
}
