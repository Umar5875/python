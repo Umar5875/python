{
 "cells": [
  {
   "cell_type": "code",
   "execution_count": 3,
   "id": "d259cc7a-170b-42e7-a596-a40c326863ec",
   "metadata": {},
   "outputs": [
    {
     "name": "stdin",
     "output_type": "stream",
     "text": [
      "Enter temperature in Celsius:  37\n"
     ]
    },
    {
     "name": "stdout",
     "output_type": "stream",
     "text": [
      "37.0C is equal to 98.6F\n"
     ]
    }
   ],
   "source": [
    "#pyhton program to convert celsius to Fahernheit\n",
    "celsius = float(input(\"Enter temperature in Celsius: \"))\n",
    "fahrenheit = (celsius * 9/5) + 32\n",
    "print(f\"{celsius}C is equal to {fahrenheit}F\")"
   ]
  },
  {
   "cell_type": "code",
   "execution_count": 8,
   "id": "d73a4186-6bea-4cd5-855e-d65fed76981c",
   "metadata": {},
   "outputs": [
    {
     "name": "stdin",
     "output_type": "stream",
     "text": [
      "Kilometers:  100\n"
     ]
    },
    {
     "name": "stdout",
     "output_type": "stream",
     "text": [
      "Miles: 62.137100000000004\n"
     ]
    }
   ],
   "source": [
    "#python program to convert kilometers to miles (1 kiloneter is equal to 0.62137 miles.)\n",
    "km = float(input(\"Kilometers: \"))\n",
    "print(\"Miles:\", km * 0.621371)"
   ]
  },
  {
   "cell_type": "code",
   "execution_count": null,
   "id": "f96902dc-69bf-42b6-931d-6e3e4f1d0d1f",
   "metadata": {},
   "outputs": [],
   "source": [
    "# Python program to convert kilometers to miles\n",
    "# 1 kilometer = 0.62137 miles\n",
    "km = float(input(\"Kilometers: \"))\n",
    "miles = km * 0.621371\n",
    "print(\"Miles:\", round(miles, 2))\n"
   ]
  },
  {
   "cell_type": "code",
   "execution_count": null,
   "id": "687e161c-b462-4c04-a174-13e76c870943",
   "metadata": {},
   "outputs": [],
   "source": []
  }
 ],
 "metadata": {
  "kernelspec": {
   "display_name": "Python 3 (ipykernel)",
   "language": "python",
   "name": "python3"
  },
  "language_info": {
   "codemirror_mode": {
    "name": "ipython",
    "version": 3
   },
   "file_extension": ".py",
   "mimetype": "text/x-python",
   "name": "python",
   "nbconvert_exporter": "python",
   "pygments_lexer": "ipython3",
   "version": "3.11.9"
  }
 },
 "nbformat": 4,
 "nbformat_minor": 5
}
