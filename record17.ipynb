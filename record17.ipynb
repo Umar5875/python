{
 "cells": [
  {
   "cell_type": "code",
   "execution_count": 5,
   "id": "07889288-0cec-4777-bda8-d3b4d1219422",
   "metadata": {},
   "outputs": [
    {
     "name": "stdin",
     "output_type": "stream",
     "text": [
      "Enter Publisher Name:  universities press\n",
      "Enter Book Title:  Wings Of Fire\n",
      "Enter Author Name:  APJ Abdul Kalam\n",
      "Enter Price:  850\n",
      "Enter Number of Pages:  180\n"
     ]
    },
    {
     "name": "stdout",
     "output_type": "stream",
     "text": [
      "\n",
      "BOOK DETAILS \n",
      "Publisher Name: universities press\n",
      "Book Title: Wings Of Fire\n",
      "Author: APJ Abdul Kalam\n",
      "Price: 850\n",
      "Number of Pages: 180\n"
     ]
    }
   ],
   "source": [
    "\"\"\"Create a class Publisher (name). Derive class Book from Publisher with attributes title and\n",
    "author. Derive class Python from Book with attributes price and no_of_pages. Write a\n",
    "program that displays information about a Python book. Use base class constructor invocation and\n",
    "method overriding.\"\"\"\n",
    "\n",
    "class Publisher:\n",
    "    def __init__(self, name):\n",
    "        self.name = name\n",
    "    def display(self):\n",
    "        print(\"Publisher Name:\", self.name)\n",
    "class Book(Publisher):\n",
    "    def __init__(self, name, title, author):\n",
    "        super().__init__(name)\n",
    "        self.title = title\n",
    "        self.author = author\n",
    "    def display(self):\n",
    "        super().display()\n",
    "        print(\"Book Title:\", self.title)\n",
    "        print(\"Author:\", self.author)\n",
    "class Python(Book):\n",
    "    def __init__(self, name, title, author, price, no_of_pages):\n",
    "        super().__init__(name, title, author)\n",
    "        self.price = price\n",
    "        self.no_of_pages = no_of_pages\n",
    "    def display(self):\n",
    "        super().display()\n",
    "        print(\"Price:\", self.price)\n",
    "        print(\"Number of Pages:\", self.no_of_pages)\n",
    "pub_name = input(\"Enter Publisher Name: \")\n",
    "title = input(\"Enter Book Title: \")\n",
    "author = input(\"Enter Author Name: \")\n",
    "price = int(input(\"Enter Price: \"))\n",
    "pages = int(input(\"Enter Number of Pages: \"))\n",
    "\n",
    "book = Python(pub_name, title, author, price, pages)\n",
    "print(\"\\nBOOK DETAILS \")\n",
    "book.display()\n"
   ]
  },
  {
   "cell_type": "code",
   "execution_count": null,
   "id": "8e6807f8-56c2-42dd-9229-e57afa8787a8",
   "metadata": {},
   "outputs": [],
   "source": []
  }
 ],
 "metadata": {
  "kernelspec": {
   "display_name": "Python 3 (ipykernel)",
   "language": "python",
   "name": "python3"
  },
  "language_info": {
   "codemirror_mode": {
    "name": "ipython",
    "version": 3
   },
   "file_extension": ".py",
   "mimetype": "text/x-python",
   "name": "python",
   "nbconvert_exporter": "python",
   "pygments_lexer": "ipython3",
   "version": "3.11.9"
  }
 },
 "nbformat": 4,
 "nbformat_minor": 5
}
