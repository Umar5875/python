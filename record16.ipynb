{
 "cells": [
  {
   "cell_type": "code",
   "execution_count": 1,
   "id": "91215d76-bdbd-47c7-ad26-e1a84ecece89",
   "metadata": {},
   "outputs": [
    {
     "name": "stdin",
     "output_type": "stream",
     "text": [
      "Acc No:  12121\n",
      "Name:  abhin\n",
      "Type:  savings\n",
      "Balance:  1120\n"
     ]
    },
    {
     "name": "stdout",
     "output_type": "stream",
     "text": [
      "\n",
      "1.Deposit  2.Withdraw  3.Display  4.Exit\n"
     ]
    },
    {
     "name": "stdin",
     "output_type": "stream",
     "text": [
      "Enter choice:  3\n"
     ]
    },
    {
     "name": "stdout",
     "output_type": "stream",
     "text": [
      "\n",
      "Acc No: 12121 \n",
      "Name: abhin \n",
      "Type: savings \n",
      "Balance: 1120.0\n",
      "\n",
      "1.Deposit  2.Withdraw  3.Display  4.Exit\n"
     ]
    },
    {
     "name": "stdin",
     "output_type": "stream",
     "text": [
      "Enter choice:  2\n",
      "Amount:  2000\n"
     ]
    },
    {
     "name": "stdout",
     "output_type": "stream",
     "text": [
      "Insufficient Balance!\n",
      "\n",
      "1.Deposit  2.Withdraw  3.Display  4.Exit\n"
     ]
    },
    {
     "name": "stdin",
     "output_type": "stream",
     "text": [
      "Enter choice:  4\n"
     ]
    },
    {
     "name": "stdout",
     "output_type": "stream",
     "text": [
      "Exiting program...\n"
     ]
    }
   ],
   "source": [
    "class Bank:\n",
    "    def __init__(self, accno, name, acctype, bal):\n",
    "        self.accno = accno\n",
    "        self.name = name\n",
    "        self.acctype = acctype\n",
    "        self.bal = bal\n",
    "    def deposit(self, amt):\n",
    "        self.bal += amt\n",
    "        print(\"Amount Deposited:\", amt)\n",
    "    def withdraw(self, amt):\n",
    "        if amt <= self.bal:\n",
    "            self.bal -= amt\n",
    "            print(\"Amount Withdrawn:\", amt)\n",
    "        else:\n",
    "            print(\"Insufficient Balance!\")\n",
    "    def display(self):\n",
    "        print(\"\\nAcc No:\", self.accno,\n",
    "              \"\\nName:\", self.name,\n",
    "              \"\\nType:\", self.acctype,\n",
    "              \"\\nBalance:\", self.bal)\n",
    "b = Bank(\n",
    "    input(\"Acc No: \"),\n",
    "    input(\"Name: \"),\n",
    "    input(\"Type: \"),\n",
    "    float(input(\"Balance: \")))\n",
    "while (1):\n",
    "    print(\"\\n1.Deposit  2.Withdraw  3.Display  4.Exit\")\n",
    "    ch = int(input(\"Enter choice: \"))\n",
    "    \n",
    "    if ch == 1:\n",
    "        b.deposit(float(input(\"Amount: \")))\n",
    "    elif ch == 2:\n",
    "        b.withdraw(float(input(\"Amount: \")))\n",
    "    elif ch == 3:\n",
    "        b.display()\n",
    "    elif ch == 4:\n",
    "        print(\"Exiting program...\")\n",
    "        break\n",
    "    else:\n",
    "        print(\"Invalid choice!\")\n"
   ]
  },
  {
   "cell_type": "code",
   "execution_count": null,
   "id": "0071e640-80e0-4194-b231-ba9b37b53fda",
   "metadata": {},
   "outputs": [],
   "source": []
  }
 ],
 "metadata": {
  "kernelspec": {
   "display_name": "Python 3 (ipykernel)",
   "language": "python",
   "name": "python3"
  },
  "language_info": {
   "codemirror_mode": {
    "name": "ipython",
    "version": 3
   },
   "file_extension": ".py",
   "mimetype": "text/x-python",
   "name": "python",
   "nbconvert_exporter": "python",
   "pygments_lexer": "ipython3",
   "version": "3.11.9"
  }
 },
 "nbformat": 4,
 "nbformat_minor": 5
}
