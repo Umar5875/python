{
 "cells": [
  {
   "cell_type": "code",
   "execution_count": null,
   "id": "d7fb7513-821e-4af3-aaa5-c9cb1d33d4cf",
   "metadata": {},
   "outputs": [],
   "source": [
    "#1.Write a Python program to print all even numbers from 1 to 25 and calculate sum . (using the range() function directly without a loop or conditions)\n",
    "#2. Write a Python program to print all  in reverse order and calculate their sum."
   ]
  },
  {
   "cell_type": "code",
   "execution_count": 7,
   "id": "2edd9240-8968-4ec2-babd-018960db2395",
   "metadata": {},
   "outputs": [
    {
     "name": "stdout",
     "output_type": "stream",
     "text": [
      "Even numbers: [0, 2, 4, 6, 8, 10, 12, 14, 16, 18, 20, 22, 24]\n",
      "Sum: 156\n"
     ]
    }
   ],
   "source": [
    "#1.Write a Python program to print all even numbers from 1 to 25 and calculate sum . (using the range() function directly without a loop or conditions)\n",
    "evens = list(range(0, 25, 2))\n",
    "print(\"Even numbers:\", evens)\n",
    "print(\"Sum:\", sum(evens))\n"
   ]
  },
  {
   "cell_type": "code",
   "execution_count": 17,
   "id": "b93d46ba-f43d-4ac3-995f-2928bd2cbb66",
   "metadata": {},
   "outputs": [
    {
     "name": "stdout",
     "output_type": "stream",
     "text": [
      "nums: [0, 1, 2, 3, 4, 5, 6, 7, 8, 9, 10, 11, 12, 13, 14, 15, 16, 17, 18, 19, 20, 21, 22, 23, 24, 25]\n",
      "Numbers in reverse: [25, 24, 23, 22, 21, 20, 19, 18, 17, 16, 15, 14, 13, 12, 11, 10, 9, 8, 7, 6, 5, 4, 3, 2, 1, 0]\n",
      "Sum: 325\n"
     ]
    }
   ],
   "source": [
    "#2. Write a Python program to print all  in reverse order and calculate their sum.\n",
    "nums = list(range(0, 26, 1))\n",
    "print(\"nums:\",nums)\n",
    "rev_nums = list(range(25, -1, -1))\n",
    "print(\"Numbers in reverse:\", rev_nums)\n",
    "print(\"Sum:\", sum(rev_nums))\n"
   ]
  },
  {
   "cell_type": "code",
   "execution_count": null,
   "id": "a378689a-a957-40cd-b7cf-dcc13a1497b9",
   "metadata": {},
   "outputs": [],
   "source": []
  }
 ],
 "metadata": {
  "kernelspec": {
   "display_name": "Python 3 (ipykernel)",
   "language": "python",
   "name": "python3"
  },
  "language_info": {
   "codemirror_mode": {
    "name": "ipython",
    "version": 3
   },
   "file_extension": ".py",
   "mimetype": "text/x-python",
   "name": "python",
   "nbconvert_exporter": "python",
   "pygments_lexer": "ipython3",
   "version": "3.11.9"
  }
 },
 "nbformat": 4,
 "nbformat_minor": 5
}
