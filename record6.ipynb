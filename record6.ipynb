{
 "cells": [
  {
   "cell_type": "code",
   "execution_count": 17,
   "id": "3726dbad-4ec3-4a23-8a83-6c27c83ffde8",
   "metadata": {},
   "outputs": [
    {
     "name": "stdin",
     "output_type": "stream",
     "text": [
      "Enter a number: 1,2,3,4,5,6,7\n"
     ]
    },
    {
     "name": "stdout",
     "output_type": "stream",
     "text": [
      "Tuple: (1, 2, 3, 4, 5, 6, 7)\n",
      "3rd element: 3\n",
      "3rd element from last: 5\n"
     ]
    }
   ],
   "source": [
    "# 1.write a python program to get the 3rd element and 3rd element from last of a tuple.\n",
    "t = tuple(map(int, input(\"Enter a number:\").split(\",\")))\n",
    "print(\"Tuple:\", t )\n",
    "print(\"3rd element:\",t[2])\n",
    "print(\"3rd element from last:\",t[-3])"
   ]
  },
  {
   "cell_type": "code",
   "execution_count": 11,
   "id": "0748b9b8-8b0d-4c2b-bc41-67ccedda6b7e",
   "metadata": {},
   "outputs": [
    {
     "name": "stdin",
     "output_type": "stream",
     "text": [
      "Enter a number: 10,30,20,40,50\n"
     ]
    },
    {
     "name": "stdout",
     "output_type": "stream",
     "text": [
      "Tuple: (10, 30, 20, 40, 50)\n",
      "Avarage: 30.0\n"
     ]
    }
   ],
   "source": [
    "# 2.write a python program which accepts a sequence of comms-separates numbers from user and generate a tuple with those number and find sum of all item in tuple.\n",
    "nums = tuple(map(int, input(\"Enter a number:\").split(\",\")))\n",
    "print(\"Tuple:\", nums)\n",
    "print(\"Avarage:\",sum(nums)/len(nums))"
   ]
  },
  {
   "cell_type": "code",
   "execution_count": null,
   "id": "524ad796-c090-4d80-ac3c-ad9a22b9880e",
   "metadata": {},
   "outputs": [],
   "source": []
  }
 ],
 "metadata": {
  "kernelspec": {
   "display_name": "Python 3 (ipykernel)",
   "language": "python",
   "name": "python3"
  },
  "language_info": {
   "codemirror_mode": {
    "name": "ipython",
    "version": 3
   },
   "file_extension": ".py",
   "mimetype": "text/x-python",
   "name": "python",
   "nbconvert_exporter": "python",
   "pygments_lexer": "ipython3",
   "version": "3.11.9"
  }
 },
 "nbformat": 4,
 "nbformat_minor": 5
}
