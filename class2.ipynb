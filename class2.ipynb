{
 "cells": [
  {
   "cell_type": "code",
   "execution_count": 14,
   "id": "ce59e89e-0fbe-40e4-b258-12046068c583",
   "metadata": {},
   "outputs": [
    {
     "name": "stdout",
     "output_type": "stream",
     "text": [
      "3.1622776601683795\n"
     ]
    }
   ],
   "source": [
    "#import math\n",
    "number=10\n",
    "result=math.sqrt(number)\n",
    "print(result)"
   ]
  },
  {
   "cell_type": "code",
   "execution_count": 25,
   "id": "9c87c9b2-fc88-46f7-9c3e-42bc3cd555ef",
   "metadata": {},
   "outputs": [
    {
     "name": "stdout",
     "output_type": "stream",
     "text": [
      "5\n",
      "4\n"
     ]
    }
   ],
   "source": [
    "\n",
    "num=4.7\n",
    "print(math.ceil(num))\n",
    "print(math.floor(num))"
   ]
  },
  {
   "cell_type": "code",
   "execution_count": 27,
   "id": "6528232d-8bc2-40cd-a803-863eeb646cbe",
   "metadata": {},
   "outputs": [],
   "source": [
    "from math import sqrt, pi"
   ]
  },
  {
   "cell_type": "code",
   "execution_count": 29,
   "id": "c605255c-d201-4436-8243-7f22d6582721",
   "metadata": {},
   "outputs": [
    {
     "name": "stdin",
     "output_type": "stream",
     "text": [
      "Enter the length of a side of the square:  5\n"
     ]
    },
    {
     "name": "stdout",
     "output_type": "stream",
     "text": [
      "The area of the square is: 25.0\n"
     ]
    }
   ],
   "source": [
    "# Program to compute the area of a square\n",
    "side = float(input(\"Enter the length of a side of the square: \"))\n",
    "area = side * side\n",
    "print(\"The area of the square is:\", area)\n"
   ]
  },
  {
   "cell_type": "code",
   "execution_count": 31,
   "id": "00ea50ee-a1f0-40da-8fb9-b9cb8fb04a59",
   "metadata": {},
   "outputs": [
    {
     "name": "stdin",
     "output_type": "stream",
     "text": [
      "Enter the base of the triangle:  10\n",
      "Enter the height of the triangle:  5\n"
     ]
    },
    {
     "name": "stdout",
     "output_type": "stream",
     "text": [
      "The area of the right-angled triangle is: 25.0\n"
     ]
    }
   ],
   "source": [
    "# Program to compute the area of a right-angled triangle\n",
    "base = float(input(\"Enter the base of the triangle: \"))\n",
    "height = float(input(\"Enter the height of the triangle: \"))\n",
    "area = 0.5 * base * height\n",
    "print(\"The area of the right-angled triangle is:\", area)\n"
   ]
  },
  {
   "cell_type": "code",
   "execution_count": 35,
   "id": "430a6d18-7bf2-4c0a-a5c0-46b7b8de0890",
   "metadata": {},
   "outputs": [
    {
     "name": "stdout",
     "output_type": "stream",
     "text": [
      "Hello,Harry!\n"
     ]
    }
   ],
  #write a program that greets the user by printing tne word "Hello",a comma, the name of the user and an exclamatiom mark after ut. (Hello,Harry!) 
name= input("Enter your name:")
print("Hello," + name + "!")
   ]
  },
  {
   "cell_type": "code",
   "execution_count": 36,
   "id": "48ccf41a-6770-4893-8757-80ae75acd27a",
   "metadata": {},
   "outputs": [
    {
     "name": "stdin",
     "output_type": "stream",
     "text": [
      "Enter an integer:  10\n"
     ]
    },
    {
     "name": "stdout",
     "output_type": "stream",
     "text": [
      "The previous number is: 9\n",
      "The entered number is: 10\n",
      "The next number is: 11\n"
     ]
    }
   ],
   "source": [
    "# Program to read a number and print its previous and next numbers\n",
    "n = int(input(\"Enter an integer: \"))\n",
    "previous_num = n - 1\n",
    "next_num = n + 1\n",
    "print(\"The previous number is:\", previous_num)\n",
    "print(\"The entered number is:\", n)\n",
    "print(\"The next number is:\", next_num)\n"
   ]
  },
  {
   "cell_type": "code",
   "execution_count": 37,
   "id": "550e6172-b887-4cfc-b032-894b0ff454a2",
   "metadata": {},
   "outputs": [
    {
     "name": "stdin",
     "output_type": "stream",
     "text": [
      "Enter the Principal amount:  1000\n",
      "Enter the Rate of interest (%):  5\n",
      "Enter the Time (in years):  2\n"
     ]
    },
    {
     "name": "stdout",
     "output_type": "stream",
     "text": [
      "The Simple Interest is: 100.0\n"
     ]
    }
   ],
   "source": [
    "# Program to compute Simple Interest\n",
    "P = float(input(\"Enter the Principal amount: \"))\n",
    "R = float(input(\"Enter the Rate of interest (%): \"))\n",
    "T = float(input(\"Enter the Time (in years): \"))\n",
    "SI = (P * R * T) / 100\n",
    "print(\"The Simple Interest is:\", SI)\n"
   ]
  },
  {
   "cell_type": "code",
   "execution_count": null,
   "id": "b59d93c6-bbd1-4254-81a4-67d3a488f3ae",
   "metadata": {},
   "outputs": [],
   "source": []
  }
 ],
 "metadata": {
  "kernelspec": {
   "display_name": "Python 3 (ipykernel)",
   "language": "python",
   "name": "python3"
  },
  "language_info": {
   "codemirror_mode": {
    "name": "ipython",
    "version": 3
   },
   "file_extension": ".py",
   "mimetype": "text/x-python",
   "name": "python",
   "nbconvert_exporter": "python",
   "pygments_lexer": "ipython3",
   "version": "3.11.9"
  }
 },
 "nbformat": 4,
 "nbformat_minor": 5
}
