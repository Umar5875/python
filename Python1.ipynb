{
 "cells": [
  {
   "cell_type": "code",
   "execution_count": 4,
   "id": "f223be38-e1aa-4238-8c9f-0c6ac664fbdc",
   "metadata": {},
   "outputs": [
    {
     "name": "stdout",
     "output_type": "stream",
     "text": [
      "Assalamu Alaikum\n"
     ]
    }
   ],
   "source": [
    "print (\"Assalamu Alaikum\")"
   ]
  },
  {
   "cell_type": "code",
   "execution_count": 9,
   "id": "d6f62c2a-8174-4795-8f3f-837d73c9c21e",
   "metadata": {},
   "outputs": [
    {
     "name": "stdout",
     "output_type": "stream",
     "text": [
      "Umarul farooq \n",
      "Thottingal house \n",
      "Thovarimala post \n",
      "wayanad \n",
      "sulthan bathery \n",
      "kerala\n"
     ]
    }
   ],
   "source": [
    "print (\"Umarul farooq \\nThottingal house \\nThovarimala post \\nwayanad \\nsulthan bathery \\nkerala\")"
   ]
  },
  {
   "cell_type": "code",
   "execution_count": 21,
   "id": "01179520-ff06-4644-b432-c4cbbe468e8d",
   "metadata": {},
   "outputs": [
    {
     "name": "stdout",
     "output_type": "stream",
     "text": [
      "5\n"
     ]
    }
   ],
   "source": [
    "print (2+3)"
   ]
  },
  {
   "cell_type": "code",
   "execution_count": 22,
   "id": "d37bee2c-4eb5-41e8-93c7-8536e635fbf8",
   "metadata": {},
   "outputs": [
    {
     "name": "stdout",
     "output_type": "stream",
     "text": [
      "-1\n"
     ]
    }
   ],
   "source": [
    "print (2-3)"
   ]
  },
  {
   "cell_type": "code",
   "execution_count": 14,
   "id": "33997968-91bc-4cf0-bdff-2e4a216e0664",
   "metadata": {},
   "outputs": [
    {
     "name": "stdout",
     "output_type": "stream",
     "text": [
      "6\n"
     ]
    }
   ],
   "source": [
    "print (2*3)"
   ]
  },
  {
   "cell_type": "code",
   "execution_count": 19,
   "id": "ad17ff2e-79a7-40fe-a3df-0f995093aef2",
   "metadata": {},
   "outputs": [
    {
     "name": "stdout",
     "output_type": "stream",
     "text": [
      "0\n"
     ]
    }
   ],
   "source": [
    "print (2//3)"
   ]
  },
  {
   "cell_type": "code",
   "execution_count": 17,
   "id": "84ea907b-66f4-45b7-90f8-67990064ebac",
   "metadata": {},
   "outputs": [
    {
     "name": "stdout",
     "output_type": "stream",
     "text": [
      "8\n"
     ]
    }
   ],
   "source": [
    "print (2**3)"
   ]
  },
  {
   "cell_type": "code",
   "execution_count": 27,
   "id": "396c25ec-ae2f-409a-80a4-3eb0cfa5d4f9",
   "metadata": {},
   "outputs": [
    {
     "name": "stdout",
     "output_type": "stream",
     "text": [
      "MCA \"students\"\n"
     ]
    }
   ],
   "source": [
    "print ('MCA \"students\"')"
   ]
  },
  {
   "cell_type": "code",
   "execution_count": 52,
   "id": "646abb27-ee94-428e-8b4f-43af25543acc",
   "metadata": {},
   "outputs": [],
   "source": [
    "n=\"George\""
   ]
  },
  {
   "cell_type": "code",
   "execution_count": 36,
   "id": "c6a943af-2f61-4d60-b576-cfe90d2e6ef4",
   "metadata": {},
   "outputs": [
    {
     "data": {
      "text/plain": [
       "'George'"
      ]
     },
     "execution_count": 36,
     "metadata": {},
     "output_type": "execute_result"
    }
   ],
   "source": [
    "n"
   ]
  },
  {
   "cell_type": "code",
   "execution_count": 37,
   "id": "758eccd1-c9d4-4e80-8efb-6e541954ee40",
   "metadata": {},
   "outputs": [
    {
     "name": "stdout",
     "output_type": "stream",
     "text": [
      "George\n"
     ]
    }
   ],
   "source": [
    "print(n)"
   ]
  },
  {
   "cell_type": "code",
   "execution_count": 40,
   "id": "a0aec899-1424-40a6-8de0-04d0ba1100cc",
   "metadata": {},
   "outputs": [
    {
     "name": "stdout",
     "output_type": "stream",
     "text": [
      "Name = George\n"
     ]
    }
   ],
   "source": [
    "print (\"Name =\",n)"
   ]
  },
  {
   "cell_type": "code",
   "execution_count": 62,
   "id": "0257e82a-f425-4d8a-b3ff-b2ea5f3aa2e3",
   "metadata": {},
   "outputs": [
    {
     "name": "stdout",
     "output_type": "stream",
     "text": [
      "Name = orge\n"
     ]
    }
   ],
   "source": [
    "print (\"Name =\",n[2:6])"
   ]
  },
  {
   "cell_type": "code",
   "execution_count": null,
   "id": "fa3365a6-7fa2-49ec-8c64-e0b6a0e66132",
   "metadata": {},
   "outputs": [],
   "source": []
  }
 ],
 "metadata": {
  "kernelspec": {
   "display_name": "Python 3 (ipykernel)",
   "language": "python",
   "name": "python3"
  },
  "language_info": {
   "codemirror_mode": {
    "name": "ipython",
    "version": 3
   },
   "file_extension": ".py",
   "mimetype": "text/x-python",
   "name": "python",
   "nbconvert_exporter": "python",
   "pygments_lexer": "ipython3",
   "version": "3.11.9"
  }
 },
 "nbformat": 4,
 "nbformat_minor": 5
}


