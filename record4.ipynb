{
 "cells": [
  {
   "cell_type": "code",
   "execution_count": 4,
   "id": "fc93fe04-e8e8-46b5-abf3-2097a248a4f6",
   "metadata": {},
   "outputs": [
    {
     "name": "stdin",
     "output_type": "stream",
     "text": [
      "Enter a string to swap first and last chars:  umarul\n"
     ]
    },
    {
     "name": "stdout",
     "output_type": "stream",
     "text": [
      "After swapping first and last chars: lmaruu\n"
     ]
    }
   ],
   "source": [
    "# 1. Swap first and last characters\n",
    "s = input(\"Enter a string to swap first and last chars: \")\n",
    "swapped = s[-1:] + s[1:-1] + s[:1]  # works even if string length < 2\n",
    "print(\"After swapping first and last chars:\", swapped)"
   ]
  },
  {
   "cell_type": "code",
   "execution_count": 5,
   "id": "a490a58f-3a58-4d09-af12-ca8fbabb399f",
   "metadata": {},
   "outputs": [
    {
     "name": "stdin",
     "output_type": "stream",
     "text": [
      "Enter a string to get first 2 and last 2 chars:  umarul\n"
     ]
    },
    {
     "name": "stdout",
     "output_type": "stream",
     "text": [
      "First 2 and last 2 chars: umul\n"
     ]
    }
   ],
   "source": [
    "# 2. Get string made of first 2 and last 2 chars\n",
    "s = input(\"Enter a string to get first 2 and last 2 chars: \")\n",
    "first_last = s[:2] + s[-2:]  # slicing safely handles short strings\n",
    "print(\"First 2 and last 2 chars:\", first_last)"
   ]
  },
  {
   "cell_type": "code",
   "execution_count": 6,
   "id": "4a9d667b-c829-4917-9d91-01d14e20dcb7",
   "metadata": {},
   "outputs": [
    {
     "name": "stdin",
     "output_type": "stream",
     "text": [
      "Enter first string:  umarul\n",
      "Enter second string:  farooq\n"
     ]
    },
    {
     "name": "stdout",
     "output_type": "stream",
     "text": [
      "Combined string after swapping first 2 chars: faarul umrooq\n"
     ]
    }
   ],
   "source": [
    "# 3. Swap first two characters of two strings and combine\n",
    "s1 = input(\"Enter first string: \")\n",
    "s2 = input(\"Enter second string: \")\n",
    "new1 = s2[:2] + s1[2:]\n",
    "new2 = s1[:2] + s2[2:]\n",
    "print(\"Combined string after swapping first 2 chars:\", new1 + ' ' + new2)\n"
   ]
  },
  {
   "cell_type": "code",
   "execution_count": 7,
   "id": "ee22a0f7-08e6-45ad-9332-a056dbcab3b3",
   "metadata": {},
   "outputs": [
    {
     "name": "stdin",
     "output_type": "stream",
     "text": [
      "Enter a string to replace its first char occurrences:  onion\n"
     ]
    },
    {
     "name": "stdout",
     "output_type": "stream",
     "text": [
      "String after replacement: oni$n\n"
     ]
    }
   ],
   "source": [
    "# 4. Replace all occurrences of first char with '$', except the first one\n",
    "s = input(\"Enter a string to replace its first char occurrences: \")\n",
    "replaced = s[:1] + s[1:].replace(s[0], '$')  # works even if string length < 1\n",
    "print(\"String after replacement:\", replaced)"
   ]
  },
  {
   "cell_type": "code",
   "execution_count": 8,
   "id": "b14954c1-654c-4bb8-8350-ab9c448cb0af",
   "metadata": {},
   "outputs": [
    {
     "name": "stdin",
     "output_type": "stream",
     "text": [
      "enter the string umar\n"
     ]
    },
    {
     "name": "stdout",
     "output_type": "stream",
     "text": [
      "converted string is rmau\n"
     ]
    }
   ],
   "source": [
    "# reverse string \n",
    "s=str(input(\"enter the string\"))\n",
    "rev=s[-1]+s[1:-1]+s[0]\n",
    "print (\"converted string is\",rev)"
   ]
  },
  {
   "cell_type": "code",
   "execution_count": null,
   "id": "082d0c46-f45e-479f-b8a9-fc4ce2f90f8c",
   "metadata": {},
   "outputs": [],
   "source": []
  }
 ],
 "metadata": {
  "kernelspec": {
   "display_name": "Python 3 (ipykernel)",
   "language": "python",
   "name": "python3"
  },
  "language_info": {
   "codemirror_mode": {
    "name": "ipython",
    "version": 3
   },
   "file_extension": ".py",
   "mimetype": "text/x-python",
   "name": "python",
   "nbconvert_exporter": "python",
   "pygments_lexer": "ipython3",
   "version": "3.11.9"
  }
 },
 "nbformat": 4,
 "nbformat_minor": 5
}
