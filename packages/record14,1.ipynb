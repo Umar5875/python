{
 "cells": [
  {
   "cell_type": "code",
   "execution_count": 18,
   "id": "657c80be-6ae8-4b0e-9a9c-9dda139d5ddf",
   "metadata": {},
   "outputs": [
    {
     "name": "stdout",
     "output_type": "stream",
     "text": [
      "\n",
      "1.Rectangle\n",
      "2.Circle\n",
      "3.Exit\n",
      "\n"
     ]
    },
    {
     "name": "stdin",
     "output_type": "stream",
     "text": [
      "Enter your choice: 1\n",
      "Enter the breadth of rectangle 3\n",
      "Enter the length of rectangle 6\n"
     ]
    },
    {
     "name": "stdout",
     "output_type": "stream",
     "text": [
      "the area of rectangle: 18.0\n",
      "the perimeter of rectangle: 18.0\n",
      "\n",
      "1.Rectangle\n",
      "2.Circle\n",
      "3.Exit\n",
      "\n"
     ]
    },
    {
     "name": "stdin",
     "output_type": "stream",
     "text": [
      "Enter your choice: 2\n",
      "Enter the radius: 5\n"
     ]
    },
    {
     "name": "stdout",
     "output_type": "stream",
     "text": [
      "Area of circle 78.5\n",
      "cperi of circle 31.4\n",
      "\n",
      "1.Rectangle\n",
      "2.Circle\n",
      "3.Exit\n",
      "\n"
     ]
    },
    {
     "name": "stdin",
     "output_type": "stream",
     "text": [
      "Enter your choice: 3\n"
     ]
    },
    {
     "name": "stdout",
     "output_type": "stream",
     "text": [
      "exitting...\n"
     ]
    }
   ],
   "source": [
    "from rectangle import *\n",
    "from circles import *\n",
    "while(1):\n",
    "    print(\"\\n1.Rectangle\\n2.Circle\\n3.Exit\\n\")\n",
    "    ch=float(input(\"Enter your choice:\"))\n",
    "    if ch==1:\n",
    "        a=float(input(\"Enter the breadth of rectangle\"))\n",
    "        b=float(input(\"Enter the length of rectangle\"))\n",
    "        print(\"the area of rectangle:\",area(a,b))\n",
    "        print(\"the perimeter of rectangle:\",peri(a,b))\n",
    "    elif ch==2:\n",
    "        r=int(input(\"Enter the radius:\"))\n",
    "        print(\"Area of circle\",round(carea(r),2))\n",
    "        print(\"cperi of circle\",round(cperi(r),2))\n",
    "    else :\n",
    "        print(\"exitting...\")\n",
    "        break\n"
   ]
  },
  {
   "cell_type": "markdown",
   "id": "7b491bbc-a6f3-4263-8dc5-f2343d8a028b",
   "metadata": {},
   "source": [
    "### "
   ]
  }
 ],
 "metadata": {
  "kernelspec": {
   "display_name": "Python 3 (ipykernel)",
   "language": "python",
   "name": "python3"
  },
  "language_info": {
   "codemirror_mode": {
    "name": "ipython",
    "version": 3
   },
   "file_extension": ".py",
   "mimetype": "text/x-python",
   "name": "python",
   "nbconvert_exporter": "python",
   "pygments_lexer": "ipython3",
   "version": "3.11.9"
  }
 },
 "nbformat": 4,
 "nbformat_minor": 5
}
