{
 "cells": [
  {
   "cell_type": "code",
   "execution_count": 41,
   "id": "cca13e4a-c515-4456-9dad-9d9114a7f5c8",
   "metadata": {},
   "outputs": [
    {
     "name": "stdin",
     "output_type": "stream",
     "text": [
      "Enter a line of text:  hai hai hai hello ! !\n"
     ]
    },
    {
     "name": "stdout",
     "output_type": "stream",
     "text": [
      "Word occurrences:\n",
      "hai : 3\n",
      "hello : 1\n",
      "! : 2\n"
     ]
    }
   ],
   "source": [
    "#1. Count the occurrences of each word in a line of text.\n",
    "text = input(\"Enter a line of text: \")\n",
    "words = text.split()\n",
    "word_count = {}\n",
    "for word in words:\n",
    "    word_count[word] = word_count.get(word, 0) + 1\n",
    "print(\"Word occurrences:\")\n",
    "for word, count in word_count.items():\n",
    "    print(word, \":\", count)\n",
    "\n"
   ]
  },
  {
   "cell_type": "code",
   "execution_count": 12,
   "id": "44d24e25-680a-4ab6-a1dc-6c7a0f4b0454",
   "metadata": {},
   "outputs": [
    {
     "name": "stdin",
     "output_type": "stream",
     "text": [
      "Enter integers :  99 100 101\n"
     ]
    },
    {
     "name": "stdout",
     "output_type": "stream",
     "text": [
      "Integers is :  [99, 100, 101]\n",
      "greater than 100, store ‘over’ instead: [99, 100, 'over']\n"
     ]
    }
   ],
   "source": [
    "#2. Prompt the user for a list of integers. For all values greater than 100, store ‘over’ instead.\n",
    "nums = list(map(int, input(\"Enter integers : \").split()))\n",
    "result = [num if num <= 100 else 'over' for num in nums]\n",
    "print(\"Integers is : \",nums)\n",
    "print(\"greater than 100, store ‘over’ instead:\",result)\n"
   ]
  },
  {
   "cell_type": "code",
   "execution_count": 4,
   "id": "32da724f-2c24-4d48-8639-b354e9d7a28d",
   "metadata": {},
   "outputs": [
    {
     "name": "stdin",
     "output_type": "stream",
     "text": [
      "Enter first names:  Adishankar\n"
     ]
    },
    {
     "name": "stdout",
     "output_type": "stream",
     "text": [
      "Occurrences of 'a': 3\n"
     ]
    }
   ],
   "source": [
    "#3. Store a list of first names. Count the occu#1. Count the occurrences of each word in a line of text.\n",
    "names = input(\"Enter first names: \").split()\n",
    "count_a = sum(name.lower().count('a') for name in names)\n",
    "print(\"Occurrences of 'a':\", count_a)\n"
   ]
  },
  {
   "cell_type": "code",
   "execution_count": 1,
   "id": "e7bbd800-797a-4154-9b2a-1dae202fcef8",
   "metadata": {},
   "outputs": [
    {
     "name": "stdin",
     "output_type": "stream",
     "text": [
      "Enter first number:  21\n",
      "Enter second number:  6\n"
     ]
    },
    {
     "name": "stdout",
     "output_type": "stream",
     "text": [
      "GCD is: 3\n"
     ]
    }
   ],
   "source": [
    "#4. Find gcd of 2 numbers.\n",
    "a = int(input(\"Enter first number: \"))\n",
    "b = int(input(\"Enter second number: \"))\n",
    "gcd = 1\n",
    "for i in range(1, min(a, b) + 1):\n",
    "    if a % i == 0 and b % i == 0:\n",
    "        gcd = i\n",
    "print(\"GCD is:\", gcd)"
   ]
  },
  {
   "cell_type": "code",
   "execution_count": 15,
   "id": "2a9b9dd1-e75c-41a1-89f7-52d6096a9a70",
   "metadata": {},
   "outputs": [
    {
     "name": "stdin",
     "output_type": "stream",
     "text": [
      "Enter integers:  1 2 3\n"
     ]
    },
    {
     "name": "stdout",
     "output_type": "stream",
     "text": [
      "List after removing evens: [1, 3]\n"
     ]
    }
   ],
   "source": [
    "#5. From a list of integers, create a list removing even numbers.\n",
    "nums = list(map(int, input(\"Enter integers: \").split()))\n",
    "result = [n for n in nums if n % 2 != 0]\n",
    "print(\"List after removing evens:\", result)\n"
   ]
  },
  {
   "cell_type": "code",
   "execution_count": 2,
   "id": "39008c93-ec1f-4fbe-bb40-bb2496452d0a",
   "metadata": {},
   "outputs": [
    {
     "name": "stdin",
     "output_type": "stream",
     "text": [
      "Enter a number:  5\n"
     ]
    },
    {
     "name": "stdout",
     "output_type": "stream",
     "text": [
      "Factorial: 120\n"
     ]
    }
   ],
   "source": [
    "#6. Program to find the factorial of a number\n",
    "n = int(input(\"Enter a number: \"))\n",
    "fact = 1\n",
    "for i in range(1, n + 1):\n",
    "    fact *= i\n",
    "print(\"Factorial:\", fact)"
   ]
  },
  {
   "cell_type": "code",
   "execution_count": 28,
   "id": "3c4c0c90-c18c-4835-b255-469cfc2e15e0",
   "metadata": {},
   "outputs": [
    {
     "name": "stdin",
     "output_type": "stream",
     "text": [
      "Enter N:  5\n"
     ]
    },
    {
     "name": "stdout",
     "output_type": "stream",
     "text": [
      "Fibonacci series:\n",
      "0 1 1 2 3 "
     ]
    }
   ],
   "source": [
    "#7. Generate Fibonacci series of N terms\n",
    "n = int(input(\"Enter N: \"))\n",
    "a, b = 0, 1\n",
    "print(\"Fibonacci series:\")\n",
    "for _ in range(n):\n",
    "    print(a, end=\" \")\n",
    "    a, b = b, a + b"
   ]
  },
  {
   "cell_type": "code",
   "execution_count": 10,
   "id": "6b198077-5de9-4be0-b66e-b7c127b2daa9",
   "metadata": {},
   "outputs": [
    {
     "name": "stdin",
     "output_type": "stream",
     "text": [
      "Enter integers:  1,2,3,4,5,6\n"
     ]
    },
    {
     "name": "stdout",
     "output_type": "stream",
     "text": [
      "list: [1, 2, 3, 4, 5, 6]\n",
      "Sum of list: 21\n"
     ]
    }
   ],
   "source": [
    "#8. Find the sum of all items in a list\n",
    "nums = list(map(int, input(\"Enter integers: \").split(\",\")))\n",
    "total = 0\n",
    "for num in nums:\n",
    "    total += num\n",
    "print (\"list:\",nums)\n",
    "print(\"Sum of list:\", total)"
   ]
  },
  {
   "cell_type": "code",
   "execution_count": 32,
   "id": "b0f1d49b-b990-4c3d-aaf9-cbeaa01241cb",
   "metadata": {},
   "outputs": [
    {
     "name": "stdin",
     "output_type": "stream",
     "text": [
      "Enter the start of range (1000-9999):  1111\n",
      "Enter the end of range (1000-9999):  8888\n"
     ]
    },
    {
     "name": "stdout",
     "output_type": "stream",
     "text": [
      "Numbers with all even digits and perfect squares: [4624, 6084, 6400, 8464]\n"
     ]
    }
   ],
   "source": [
    "#9. Generate a list of four digit numbers in a given range with all their digits even and the number is a perfect square.\n",
    "import math\n",
    "start = int(input(\"Enter the start of range (1000-9999): \"))\n",
    "end = int(input(\"Enter the end of range (1000-9999): \"))\n",
    "result = []\n",
    "for num in range(start, end + 1):\n",
    "    if all(int(digit) % 2 == 0 for digit in str(num)):\n",
    "        if int(math.isqrt(num)) ** 2 == num:\n",
    "            result.append(num)\n",
    "print(\"Numbers with all even digits and perfect squares:\", result)"
   ]
  },
  {
   "cell_type": "code",
   "execution_count": 34,
   "id": "b5da6a74-c217-4384-b67b-7c47ad2584c6",
   "metadata": {},
   "outputs": [
    {
     "name": "stdin",
     "output_type": "stream",
     "text": [
      "Enter a string:  adishankar\n"
     ]
    },
    {
     "name": "stdout",
     "output_type": "stream",
     "text": [
      "Character frequency: {'a': 3, 'd': 1, 'i': 1, 's': 1, 'h': 1, 'n': 1, 'k': 1, 'r': 1}\n"
     ]
    }
   ],
   "source": [
    "#10. Count the number of characters (character frequency) in a string.\n",
    "text = input(\"Enter a string: \")\n",
    "char_count = {}\n",
    "for ch in text:\n",
    "    char_count[ch] = char_count.get(ch, 0) + 1\n",
    "print(\"Character frequency:\", char_count)\n"
   ]
  },
  {
   "cell_type": "code",
   "execution_count": 6,
   "id": "e14a8ed9-8d6d-422e-b4c2-5f05077ee0b1",
   "metadata": {},
   "outputs": [
    {
     "name": "stdin",
     "output_type": "stream",
     "text": [
      "Enter N:  5\n"
     ]
    },
    {
     "name": "stdout",
     "output_type": "stream",
     "text": [
      "1 \n",
      "2 4 \n",
      "3 6 9 \n",
      "4 8 12 16 \n",
      "5 10 15 20 25 \n"
     ]
    }
   ],
   "source": [
    "#11. Display the given pyramid with step number accepted from user.\n",
    "n = int(input(\"Enter N: \"))\n",
    "for i in range(1, n+1):\n",
    "    for j in range(1, i+1):\n",
    "        print(i*j, end=\" \")\n",
    "    print()\n"
   ]
  },
  {
   "cell_type": "code",
   "execution_count": null,
   "id": "e1885767-0b5b-4518-9319-87682e399a0c",
   "metadata": {},
   "outputs": [],
   "source": []
  },
  {
   "cell_type": "code",
   "execution_count": null,
   "id": "f0f55de1-241a-4f1d-8ad2-ce9f276f6280",
   "metadata": {},
   "outputs": [],
   "source": []
  }
 ],
 "metadata": {
  "kernelspec": {
   "display_name": "Python 3 (ipykernel)",
   "language": "python",
   "name": "python3"
  },
  "language_info": {
   "codemirror_mode": {
    "name": "ipython",
    "version": 3
   },
   "file_extension": ".py",
   "mimetype": "text/x-python",
   "name": "python",
   "nbconvert_exporter": "python",
   "pygments_lexer": "ipython3",
   "version": "3.11.9"
  }
 },
 "nbformat": 4,
 "nbformat_minor": 5
}
