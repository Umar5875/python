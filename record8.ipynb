{
 "cells": [
  {
   "cell_type": "code",
   "execution_count": 8,
   "id": "791c064d-13b7-4727-9db6-5800630e248f",
   "metadata": {},
   "outputs": [
    {
     "name": "stdin",
     "output_type": "stream",
     "text": [
      "Enter colors for Set 1 : Red Blue Green Black\n",
      "Enter colors for Set 2 :  Pink Red Blue White\n"
     ]
    },
    {
     "name": "stdout",
     "output_type": "stream",
     "text": [
      "set1: {'Green', 'Black', 'Blue', 'Red'}\n",
      "set2: {'Pink', 'Blue', 'Red', 'White'}\n",
      "Colors only in Set1: {'Green', 'Black'}\n"
     ]
    }
   ],
   "source": [
    "#1. Write a python program to printout all colors from color set 1 not contained in color set2. \n",
    "color_set1 = set(input(\"Enter colors for Set 1 :\").split())\n",
    "color_set2 = set(input(\"Enter colors for Set 2 : \").split())\n",
    "result = color_set1 - color_set2\n",
    "print(\"set1:\",color_set1)\n",
    "print(\"set2:\",color_set2)\n",
    "print(\"Colors only in Set1:\", result)"
   ]
  },
  {
   "cell_type": "code",
   "execution_count": 9,
   "id": "6495e13c-2671-4a44-8ee4-bdbadadfdde5",
   "metadata": {},
   "outputs": [
    {
     "name": "stdin",
     "output_type": "stream",
     "text": [
      "Enter colors for Set 1 :  Red Blue Green Black\n",
      "Enter colors for Set 2 :  Pink Red Blue White\n"
     ]
    },
    {
     "name": "stdout",
     "output_type": "stream",
     "text": [
      "set1: {'Green', 'Black', 'Blue', 'Red'}\n",
      "set2: {'Pink', 'Blue', 'Red', 'White'}\n",
      "All colors from Set1 and Set2: {'Pink', 'Red', 'Green', 'Black', 'White', 'Blue'}\n"
     ]
    }
   ],
   "source": [
    "# 2. Write a python program to printout all colors from color set 1 and color set2\n",
    "color_set1 = set(input(\"Enter colors for Set 1 : \").split())\n",
    "color_set2 = set(input(\"Enter colors for Set 2 : \").split())\n",
    "result = color_set1 | color_set2\n",
    "print(\"set1:\",color_set1)\n",
    "print(\"set2:\",color_set2)\n",
    "print(\"All colors from Set1 and Set2:\", result)"
   ]
  },
  {
   "cell_type": "code",
   "execution_count": null,
   "id": "d0ee0fa8-de19-4970-a209-f00770479699",
   "metadata": {},
   "outputs": [],
   "source": []
  }
 ],
 "metadata": {
  "kernelspec": {
   "display_name": "Python 3 (ipykernel)",
   "language": "python",
   "name": "python3"
  },
  "language_info": {
   "codemirror_mode": {
    "name": "ipython",
    "version": 3
   },
   "file_extension": ".py",
   "mimetype": "text/x-python",
   "name": "python",
   "nbconvert_exporter": "python",
   "pygments_lexer": "ipython3",
   "version": "3.11.9"
  }
 },
 "nbformat": 4,
 "nbformat_minor": 5
}
