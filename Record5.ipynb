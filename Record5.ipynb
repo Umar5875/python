{
 "cells": [
  {
   "cell_type": "code",
   "execution_count": 1,
   "id": "839459a4-bc68-4afc-bb0c-bf2afffb9dca",
   "metadata": {},
   "outputs": [
    {
     "name": "stdin",
     "output_type": "stream",
     "text": [
      "Enter color names  red, blue, green, yellow\n"
     ]
    },
    {
     "name": "stdout",
     "output_type": "stream",
     "text": [
      "List of colors: ['red', 'blue', 'green', 'yellow']\n",
      "First color: red\n",
      "Last color: yellow\n"
     ]
    }
   ],
   "source": [
    "# 1. Create a list of colors from comma-separated color names entered by user. Display first and last colors. \n",
    "colors = input(\"Enter color names \").split(',')\n",
    "colors = [color.strip() for color in colors]\n",
    "print(\"List of colors:\", colors)\n",
    "print(\"First color:\", colors[0])\n",
    "print(\"Last color:\", colors[-1])\n"
   ]
  },
  {
   "cell_type": "code",
   "execution_count": 2,
   "id": "a279cf21-c421-4b90-8401-e8a097c3d53f",
   "metadata": {},
   "outputs": [
    {
     "name": "stdin",
     "output_type": "stream",
     "text": [
      "Enter a filename:  document.txt\n"
     ]
    },
    {
     "name": "stdout",
     "output_type": "stream",
     "text": [
      "The extension of the file is: txt\n"
     ]
    }
   ],
   "source": [
    "# 2.  Write a python program to accept a filename from the user, print extension of that. \n",
    "filename = input(\"Enter a filename: \")\n",
    "extension = filename.split('.')[-1]\n",
    "print(\"The extension of the file is:\", extension)\n"
   ]
  },
  {
   "cell_type": "code",
   "execution_count": 2,
   "id": "385b2356-2727-4ee3-8c5c-79572e029d29",
   "metadata": {},
   "outputs": [
    {
     "name": "stdin",
     "output_type": "stream",
     "text": [
      "Enter numbers :  10,20,30,40\n"
     ]
    },
    {
     "name": "stdout",
     "output_type": "stream",
     "text": [
      "List of numbers: [10, 20, 30, 40]\n",
      "Sum of all numbers: 100\n"
     ]
    }
   ],
   "source": [
    "# 3.  Write a python program which accepts a sequence of comma-separated numbers from user and generate a list with those numbers and find sum of all items in that list.\n",
    "numbers = input(\"Enter numbers : \").split(',')\n",
    "num_list = list(map(int, numbers))\n",
    "print(\"List of numbers:\", num_list)\n",
    "total = sum(num_list)\n",
    "print(\"Sum of all numbers:\", total)\n"
   ]
  },
  {
   "cell_type": "code",
   "execution_count": null,
   "id": "3c57ace8-4359-46fc-8c17-49a977d7f655",
   "metadata": {},
   "outputs": [],
   "source": []
  }
 ],
 "metadata": {
  "kernelspec": {
   "display_name": "Python 3 (ipykernel)",
   "language": "python",
   "name": "python3"
  },
  "language_info": {
   "codemirror_mode": {
    "name": "ipython",
    "version": 3
   },
   "file_extension": ".py",
   "mimetype": "text/x-python",
   "name": "python",
   "nbconvert_exporter": "python",
   "pygments_lexer": "ipython3",
   "version": "3.11.9"
  }
 },
 "nbformat": 4,
 "nbformat_minor": 5
}
